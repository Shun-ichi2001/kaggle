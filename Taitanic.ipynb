{
 "cells": [
  {
   "cell_type": "code",
   "execution_count": 1,
   "id": "fb692d41",
   "metadata": {
    "_cell_guid": "b1076dfc-b9ad-4769-8c92-a6c4dae69d19",
    "_uuid": "8f2839f25d086af736a60e9eeb907d3b93b6e0e5",
    "execution": {
     "iopub.execute_input": "2023-07-10T07:28:47.063907Z",
     "iopub.status.busy": "2023-07-10T07:28:47.063051Z",
     "iopub.status.idle": "2023-07-10T07:28:47.077921Z",
     "shell.execute_reply": "2023-07-10T07:28:47.076714Z"
    },
    "papermill": {
     "duration": 0.0239,
     "end_time": "2023-07-10T07:28:47.080312",
     "exception": false,
     "start_time": "2023-07-10T07:28:47.056412",
     "status": "completed"
    },
    "tags": []
   },
   "outputs": [
    {
     "name": "stdout",
     "output_type": "stream",
     "text": [
      "/kaggle/input/titanic/train.csv\n",
      "/kaggle/input/titanic/test.csv\n",
      "/kaggle/input/titanic/gender_submission.csv\n"
     ]
    }
   ],
   "source": [
    "# This Python 3 environment comes with many helpful analytics libraries installed\n",
    "# It is defined by the kaggle/python Docker image: https://github.com/kaggle/docker-python\n",
    "# For example, here's several helpful packages to load\n",
    "\n",
    "import numpy as np # linear algebra\n",
    "import pandas as pd # data processing, CSV file I/O (e.g. pd.read_csv)\n",
    "\n",
    "# Input data files are available in the read-only \"../input/\" directory\n",
    "# For example, running this (by clicking run or pressing Shift+Enter) will list all files under the input directory\n",
    "\n",
    "import os\n",
    "for dirname, _, filenames in os.walk('/kaggle/input'):\n",
    "    for filename in filenames:\n",
    "        print(os.path.join(dirname, filename))\n",
    "\n",
    "# You can write up to 20GB to the current directory (/kaggle/working/) that gets preserved as output when you create a version using \"Save & Run All\" \n",
    "# You can also write temporary files to /kaggle/temp/, but they won't be saved outside of the current session"
   ]
  },
  {
   "cell_type": "code",
   "execution_count": 2,
   "id": "cd856e4c",
   "metadata": {
    "execution": {
     "iopub.execute_input": "2023-07-10T07:28:47.091270Z",
     "iopub.status.busy": "2023-07-10T07:28:47.090574Z",
     "iopub.status.idle": "2023-07-10T07:28:51.890958Z",
     "shell.execute_reply": "2023-07-10T07:28:51.888822Z"
    },
    "papermill": {
     "duration": 4.808583,
     "end_time": "2023-07-10T07:28:51.893519",
     "exception": false,
     "start_time": "2023-07-10T07:28:47.084936",
     "status": "completed"
    },
    "tags": []
   },
   "outputs": [
    {
     "name": "stderr",
     "output_type": "stream",
     "text": [
      "/opt/conda/lib/python3.10/site-packages/numba/core/decorators.py:262: NumbaDeprecationWarning: \u001b[1mnumba.generated_jit is deprecated. Please see the documentation at: https://numba.readthedocs.io/en/stable/reference/deprecation.html#deprecation-of-generated-jit for more information and advice on a suitable replacement.\u001b[0m\n",
      "  warnings.warn(msg, NumbaDeprecationWarning)\n",
      "/opt/conda/lib/python3.10/site-packages/visions/backends/shared/nan_handling.py:51: NumbaDeprecationWarning: \u001b[1mThe 'nopython' keyword argument was not supplied to the 'numba.jit' decorator. The implicit default value for this argument is currently False, but it will be changed to True in Numba 0.59.0. See https://numba.readthedocs.io/en/stable/reference/deprecation.html#deprecation-of-object-mode-fall-back-behaviour-when-using-jit for details.\u001b[0m\n",
      "  def hasna(x: np.ndarray) -> bool:\n",
      "/tmp/ipykernel_20/944047176.py:5: DeprecationWarning: `import pandas_profiling` is going to be deprecated by April 1st. Please use `import ydata_profiling` instead.\n",
      "  import pandas_profiling\n"
     ]
    }
   ],
   "source": [
    "import numpy as np\n",
    "import pandas as pd\n",
    "import matplotlib.pyplot as plt\n",
    "import seaborn as sns\n",
    "import pandas_profiling\n",
    "import statistics as st"
   ]
  },
  {
   "cell_type": "code",
   "execution_count": 3,
   "id": "6310acd2",
   "metadata": {
    "execution": {
     "iopub.execute_input": "2023-07-10T07:28:51.904172Z",
     "iopub.status.busy": "2023-07-10T07:28:51.903787Z",
     "iopub.status.idle": "2023-07-10T07:28:51.946210Z",
     "shell.execute_reply": "2023-07-10T07:28:51.945010Z"
    },
    "papermill": {
     "duration": 0.050674,
     "end_time": "2023-07-10T07:28:51.948749",
     "exception": false,
     "start_time": "2023-07-10T07:28:51.898075",
     "status": "completed"
    },
    "tags": []
   },
   "outputs": [],
   "source": [
    "data_train = pd.read_csv('../input/titanic/train.csv')\n",
    "data_test = pd.read_csv('../input/titanic/test.csv')\n",
    "data_gender_submission = pd.read_csv('../input/titanic/gender_submission.csv')"
   ]
  },
  {
   "cell_type": "code",
   "execution_count": 4,
   "id": "520cee7d",
   "metadata": {
    "execution": {
     "iopub.execute_input": "2023-07-10T07:28:51.959819Z",
     "iopub.status.busy": "2023-07-10T07:28:51.959091Z",
     "iopub.status.idle": "2023-07-10T07:28:51.987298Z",
     "shell.execute_reply": "2023-07-10T07:28:51.985729Z"
    },
    "papermill": {
     "duration": 0.036475,
     "end_time": "2023-07-10T07:28:51.989705",
     "exception": false,
     "start_time": "2023-07-10T07:28:51.953230",
     "status": "completed"
    },
    "tags": []
   },
   "outputs": [
    {
     "name": "stdout",
     "output_type": "stream",
     "text": [
      "     PassengerId  Survived  Pclass  \\\n",
      "0              1         0       3   \n",
      "1              2         1       1   \n",
      "2              3         1       3   \n",
      "3              4         1       1   \n",
      "4              5         0       3   \n",
      "..           ...       ...     ...   \n",
      "886          887         0       2   \n",
      "887          888         1       1   \n",
      "888          889         0       3   \n",
      "889          890         1       1   \n",
      "890          891         0       3   \n",
      "\n",
      "                                                  Name     Sex   Age  SibSp  \\\n",
      "0                              Braund, Mr. Owen Harris    male  22.0      1   \n",
      "1    Cumings, Mrs. John Bradley (Florence Briggs Th...  female  38.0      1   \n",
      "2                               Heikkinen, Miss. Laina  female  26.0      0   \n",
      "3         Futrelle, Mrs. Jacques Heath (Lily May Peel)  female  35.0      1   \n",
      "4                             Allen, Mr. William Henry    male  35.0      0   \n",
      "..                                                 ...     ...   ...    ...   \n",
      "886                              Montvila, Rev. Juozas    male  27.0      0   \n",
      "887                       Graham, Miss. Margaret Edith  female  19.0      0   \n",
      "888           Johnston, Miss. Catherine Helen \"Carrie\"  female   NaN      1   \n",
      "889                              Behr, Mr. Karl Howell    male  26.0      0   \n",
      "890                                Dooley, Mr. Patrick    male  32.0      0   \n",
      "\n",
      "     Parch            Ticket     Fare Cabin Embarked  \n",
      "0        0         A/5 21171   7.2500   NaN        S  \n",
      "1        0          PC 17599  71.2833   C85        C  \n",
      "2        0  STON/O2. 3101282   7.9250   NaN        S  \n",
      "3        0            113803  53.1000  C123        S  \n",
      "4        0            373450   8.0500   NaN        S  \n",
      "..     ...               ...      ...   ...      ...  \n",
      "886      0            211536  13.0000   NaN        S  \n",
      "887      0            112053  30.0000   B42        S  \n",
      "888      2        W./C. 6607  23.4500   NaN        S  \n",
      "889      0            111369  30.0000  C148        C  \n",
      "890      0            370376   7.7500   NaN        Q  \n",
      "\n",
      "[891 rows x 12 columns]\n"
     ]
    }
   ],
   "source": [
    "print(data_train)"
   ]
  },
  {
   "cell_type": "code",
   "execution_count": 5,
   "id": "6168dd94",
   "metadata": {
    "execution": {
     "iopub.execute_input": "2023-07-10T07:28:52.000615Z",
     "iopub.status.busy": "2023-07-10T07:28:52.000214Z",
     "iopub.status.idle": "2023-07-10T07:28:52.023415Z",
     "shell.execute_reply": "2023-07-10T07:28:52.022049Z"
    },
    "papermill": {
     "duration": 0.031654,
     "end_time": "2023-07-10T07:28:52.026009",
     "exception": false,
     "start_time": "2023-07-10T07:28:51.994355",
     "status": "completed"
    },
    "tags": []
   },
   "outputs": [
    {
     "data": {
      "text/html": [
       "<div>\n",
       "<style scoped>\n",
       "    .dataframe tbody tr th:only-of-type {\n",
       "        vertical-align: middle;\n",
       "    }\n",
       "\n",
       "    .dataframe tbody tr th {\n",
       "        vertical-align: top;\n",
       "    }\n",
       "\n",
       "    .dataframe thead th {\n",
       "        text-align: right;\n",
       "    }\n",
       "</style>\n",
       "<table border=\"1\" class=\"dataframe\">\n",
       "  <thead>\n",
       "    <tr style=\"text-align: right;\">\n",
       "      <th></th>\n",
       "      <th>PassengerId</th>\n",
       "      <th>Survived</th>\n",
       "      <th>Pclass</th>\n",
       "      <th>Name</th>\n",
       "      <th>Sex</th>\n",
       "      <th>Age</th>\n",
       "      <th>SibSp</th>\n",
       "      <th>Parch</th>\n",
       "      <th>Ticket</th>\n",
       "      <th>Fare</th>\n",
       "      <th>Cabin</th>\n",
       "      <th>Embarked</th>\n",
       "    </tr>\n",
       "  </thead>\n",
       "  <tbody>\n",
       "    <tr>\n",
       "      <th>0</th>\n",
       "      <td>1</td>\n",
       "      <td>0</td>\n",
       "      <td>3</td>\n",
       "      <td>Braund, Mr. Owen Harris</td>\n",
       "      <td>male</td>\n",
       "      <td>22.0</td>\n",
       "      <td>1</td>\n",
       "      <td>0</td>\n",
       "      <td>A/5 21171</td>\n",
       "      <td>7.2500</td>\n",
       "      <td>NaN</td>\n",
       "      <td>S</td>\n",
       "    </tr>\n",
       "    <tr>\n",
       "      <th>1</th>\n",
       "      <td>2</td>\n",
       "      <td>1</td>\n",
       "      <td>1</td>\n",
       "      <td>Cumings, Mrs. John Bradley (Florence Briggs Th...</td>\n",
       "      <td>female</td>\n",
       "      <td>38.0</td>\n",
       "      <td>1</td>\n",
       "      <td>0</td>\n",
       "      <td>PC 17599</td>\n",
       "      <td>71.2833</td>\n",
       "      <td>C85</td>\n",
       "      <td>C</td>\n",
       "    </tr>\n",
       "    <tr>\n",
       "      <th>2</th>\n",
       "      <td>3</td>\n",
       "      <td>1</td>\n",
       "      <td>3</td>\n",
       "      <td>Heikkinen, Miss. Laina</td>\n",
       "      <td>female</td>\n",
       "      <td>26.0</td>\n",
       "      <td>0</td>\n",
       "      <td>0</td>\n",
       "      <td>STON/O2. 3101282</td>\n",
       "      <td>7.9250</td>\n",
       "      <td>NaN</td>\n",
       "      <td>S</td>\n",
       "    </tr>\n",
       "    <tr>\n",
       "      <th>3</th>\n",
       "      <td>4</td>\n",
       "      <td>1</td>\n",
       "      <td>1</td>\n",
       "      <td>Futrelle, Mrs. Jacques Heath (Lily May Peel)</td>\n",
       "      <td>female</td>\n",
       "      <td>35.0</td>\n",
       "      <td>1</td>\n",
       "      <td>0</td>\n",
       "      <td>113803</td>\n",
       "      <td>53.1000</td>\n",
       "      <td>C123</td>\n",
       "      <td>S</td>\n",
       "    </tr>\n",
       "    <tr>\n",
       "      <th>4</th>\n",
       "      <td>5</td>\n",
       "      <td>0</td>\n",
       "      <td>3</td>\n",
       "      <td>Allen, Mr. William Henry</td>\n",
       "      <td>male</td>\n",
       "      <td>35.0</td>\n",
       "      <td>0</td>\n",
       "      <td>0</td>\n",
       "      <td>373450</td>\n",
       "      <td>8.0500</td>\n",
       "      <td>NaN</td>\n",
       "      <td>S</td>\n",
       "    </tr>\n",
       "  </tbody>\n",
       "</table>\n",
       "</div>"
      ],
      "text/plain": [
       "   PassengerId  Survived  Pclass  \\\n",
       "0            1         0       3   \n",
       "1            2         1       1   \n",
       "2            3         1       3   \n",
       "3            4         1       1   \n",
       "4            5         0       3   \n",
       "\n",
       "                                                Name     Sex   Age  SibSp  \\\n",
       "0                            Braund, Mr. Owen Harris    male  22.0      1   \n",
       "1  Cumings, Mrs. John Bradley (Florence Briggs Th...  female  38.0      1   \n",
       "2                             Heikkinen, Miss. Laina  female  26.0      0   \n",
       "3       Futrelle, Mrs. Jacques Heath (Lily May Peel)  female  35.0      1   \n",
       "4                           Allen, Mr. William Henry    male  35.0      0   \n",
       "\n",
       "   Parch            Ticket     Fare Cabin Embarked  \n",
       "0      0         A/5 21171   7.2500   NaN        S  \n",
       "1      0          PC 17599  71.2833   C85        C  \n",
       "2      0  STON/O2. 3101282   7.9250   NaN        S  \n",
       "3      0            113803  53.1000  C123        S  \n",
       "4      0            373450   8.0500   NaN        S  "
      ]
     },
     "execution_count": 5,
     "metadata": {},
     "output_type": "execute_result"
    }
   ],
   "source": [
    "data_train.head()"
   ]
  },
  {
   "cell_type": "code",
   "execution_count": 6,
   "id": "9c4d5b5d",
   "metadata": {
    "execution": {
     "iopub.execute_input": "2023-07-10T07:28:52.037514Z",
     "iopub.status.busy": "2023-07-10T07:28:52.037113Z",
     "iopub.status.idle": "2023-07-10T07:28:52.049484Z",
     "shell.execute_reply": "2023-07-10T07:28:52.048149Z"
    },
    "papermill": {
     "duration": 0.021036,
     "end_time": "2023-07-10T07:28:52.051995",
     "exception": false,
     "start_time": "2023-07-10T07:28:52.030959",
     "status": "completed"
    },
    "tags": []
   },
   "outputs": [],
   "source": [
    "data_all = pd.concat([data_train, data_test], sort=False)"
   ]
  },
  {
   "cell_type": "code",
   "execution_count": 7,
   "id": "b60b572a",
   "metadata": {
    "execution": {
     "iopub.execute_input": "2023-07-10T07:28:52.065711Z",
     "iopub.status.busy": "2023-07-10T07:28:52.064551Z",
     "iopub.status.idle": "2023-07-10T07:28:52.073274Z",
     "shell.execute_reply": "2023-07-10T07:28:52.072416Z"
    },
    "papermill": {
     "duration": 0.018702,
     "end_time": "2023-07-10T07:28:52.075519",
     "exception": false,
     "start_time": "2023-07-10T07:28:52.056817",
     "status": "completed"
    },
    "tags": []
   },
   "outputs": [],
   "source": [
    "data_all.drop(['PassengerId', 'Name', 'Parch', 'SibSp', 'Ticket', 'Cabin'], axis=1, inplace=True)"
   ]
  },
  {
   "cell_type": "code",
   "execution_count": 8,
   "id": "e4cc9882",
   "metadata": {
    "execution": {
     "iopub.execute_input": "2023-07-10T07:28:52.087358Z",
     "iopub.status.busy": "2023-07-10T07:28:52.086731Z",
     "iopub.status.idle": "2023-07-10T07:28:52.108294Z",
     "shell.execute_reply": "2023-07-10T07:28:52.107144Z"
    },
    "papermill": {
     "duration": 0.030659,
     "end_time": "2023-07-10T07:28:52.111004",
     "exception": false,
     "start_time": "2023-07-10T07:28:52.080345",
     "status": "completed"
    },
    "tags": []
   },
   "outputs": [
    {
     "name": "stdout",
     "output_type": "stream",
     "text": [
      "<class 'pandas.core.frame.DataFrame'>\n",
      "Int64Index: 1309 entries, 0 to 417\n",
      "Data columns (total 6 columns):\n",
      " #   Column    Non-Null Count  Dtype  \n",
      "---  ------    --------------  -----  \n",
      " 0   Survived  891 non-null    float64\n",
      " 1   Pclass    1309 non-null   int64  \n",
      " 2   Sex       1309 non-null   object \n",
      " 3   Age       1046 non-null   float64\n",
      " 4   Fare      1308 non-null   float64\n",
      " 5   Embarked  1307 non-null   object \n",
      "dtypes: float64(3), int64(1), object(2)\n",
      "memory usage: 71.6+ KB\n"
     ]
    }
   ],
   "source": [
    "data_all.info()"
   ]
  },
  {
   "cell_type": "code",
   "execution_count": 9,
   "id": "8965e6a2",
   "metadata": {
    "execution": {
     "iopub.execute_input": "2023-07-10T07:28:52.125014Z",
     "iopub.status.busy": "2023-07-10T07:28:52.124091Z",
     "iopub.status.idle": "2023-07-10T07:28:52.135419Z",
     "shell.execute_reply": "2023-07-10T07:28:52.134101Z"
    },
    "papermill": {
     "duration": 0.022299,
     "end_time": "2023-07-10T07:28:52.138217",
     "exception": false,
     "start_time": "2023-07-10T07:28:52.115918",
     "status": "completed"
    },
    "tags": []
   },
   "outputs": [],
   "source": [
    "#年齢は分散が小さいので、平均値を補完\n",
    "data_all['Age'].fillna(np.mean(data_all['Age']), inplace=True)\n",
    "#運賃は分散が大きいので、中央値を補完\n",
    "data_all['Fare'].fillna(np.nanmedian(data_all['Fare']), inplace=True)\n",
    "#搭乗港は文字列なので、最頻値を補完\n",
    "data_all['Embarked'].fillna(st.mode(data_all['Embarked']), inplace=True)"
   ]
  },
  {
   "cell_type": "code",
   "execution_count": 10,
   "id": "87d31814",
   "metadata": {
    "execution": {
     "iopub.execute_input": "2023-07-10T07:28:52.151354Z",
     "iopub.status.busy": "2023-07-10T07:28:52.150957Z",
     "iopub.status.idle": "2023-07-10T07:28:52.160054Z",
     "shell.execute_reply": "2023-07-10T07:28:52.158988Z"
    },
    "papermill": {
     "duration": 0.018064,
     "end_time": "2023-07-10T07:28:52.162335",
     "exception": false,
     "start_time": "2023-07-10T07:28:52.144271",
     "status": "completed"
    },
    "tags": []
   },
   "outputs": [],
   "source": [
    "#文字列を数値へ変換\n",
    "data_all['Sex'].replace(['male', 'female'], [0, 1], inplace=True)\n",
    "data_all['Embarked'].replace(['S', 'C', 'Q'], [0, 1, 2], inplace=True)"
   ]
  },
  {
   "cell_type": "code",
   "execution_count": 11,
   "id": "084dc9a4",
   "metadata": {
    "execution": {
     "iopub.execute_input": "2023-07-10T07:28:52.174322Z",
     "iopub.status.busy": "2023-07-10T07:28:52.173661Z",
     "iopub.status.idle": "2023-07-10T07:28:52.180342Z",
     "shell.execute_reply": "2023-07-10T07:28:52.179123Z"
    },
    "papermill": {
     "duration": 0.01557,
     "end_time": "2023-07-10T07:28:52.182806",
     "exception": false,
     "start_time": "2023-07-10T07:28:52.167236",
     "status": "completed"
    },
    "tags": []
   },
   "outputs": [],
   "source": [
    "#データもとに戻す\n",
    "data_train = data_all[~data_all['Survived'].isnull()]\n",
    "data_test = data_all[data_all['Survived'].isnull()]"
   ]
  },
  {
   "cell_type": "code",
   "execution_count": 12,
   "id": "2dc62405",
   "metadata": {
    "execution": {
     "iopub.execute_input": "2023-07-10T07:28:52.194473Z",
     "iopub.status.busy": "2023-07-10T07:28:52.194055Z",
     "iopub.status.idle": "2023-07-10T07:28:52.201835Z",
     "shell.execute_reply": "2023-07-10T07:28:52.200725Z"
    },
    "papermill": {
     "duration": 0.016454,
     "end_time": "2023-07-10T07:28:52.204191",
     "exception": false,
     "start_time": "2023-07-10T07:28:52.187737",
     "status": "completed"
    },
    "tags": []
   },
   "outputs": [],
   "source": [
    "#訓練データ\n",
    "y_train = data_train['Survived']\n",
    "X_train = data_train.drop('Survived', axis=1)\n",
    "#検証データ\n",
    "X_test = data_test.drop('Survived', axis=1)"
   ]
  },
  {
   "cell_type": "code",
   "execution_count": 13,
   "id": "a0e5a7a8",
   "metadata": {
    "execution": {
     "iopub.execute_input": "2023-07-10T07:28:52.216064Z",
     "iopub.status.busy": "2023-07-10T07:28:52.215695Z",
     "iopub.status.idle": "2023-07-10T07:28:53.159094Z",
     "shell.execute_reply": "2023-07-10T07:28:53.158209Z"
    },
    "papermill": {
     "duration": 0.952,
     "end_time": "2023-07-10T07:28:53.161433",
     "exception": false,
     "start_time": "2023-07-10T07:28:52.209433",
     "status": "completed"
    },
    "tags": []
   },
   "outputs": [],
   "source": [
    "#ランダムフォレストライブラリのインポート\n",
    "from sklearn.ensemble import RandomForestClassifier\n",
    "#ランダムフォレストのパラメータ指定(デフォルト)\n",
    "clf = RandomForestClassifier()\n",
    "#訓練データを元にモデルを作成\n",
    "clf.fit(X_train, y_train)\n",
    "#検証データの予測を出力\n",
    "y_test = clf.predict(X_test)"
   ]
  },
  {
   "cell_type": "code",
   "execution_count": 14,
   "id": "1ab30630",
   "metadata": {
    "execution": {
     "iopub.execute_input": "2023-07-10T07:28:53.172888Z",
     "iopub.status.busy": "2023-07-10T07:28:53.172482Z",
     "iopub.status.idle": "2023-07-10T07:28:53.187445Z",
     "shell.execute_reply": "2023-07-10T07:28:53.186224Z"
    },
    "papermill": {
     "duration": 0.023755,
     "end_time": "2023-07-10T07:28:53.190050",
     "exception": false,
     "start_time": "2023-07-10T07:28:53.166295",
     "status": "completed"
    },
    "tags": []
   },
   "outputs": [],
   "source": [
    "result = pd.DataFrame(y_test).astype(int)\n",
    "result.columns = ['Survived']\n",
    "submit = pd.concat([data_gender_submission['PassengerId'].astype(int), result],axis=1)\n",
    "submit.to_csv('submit_v1.csv', index=False)"
   ]
  },
  {
   "cell_type": "code",
   "execution_count": null,
   "id": "4f9892e2",
   "metadata": {
    "papermill": {
     "duration": 0.004534,
     "end_time": "2023-07-10T07:28:53.199443",
     "exception": false,
     "start_time": "2023-07-10T07:28:53.194909",
     "status": "completed"
    },
    "tags": []
   },
   "outputs": [],
   "source": []
  }
 ],
 "metadata": {
  "kernelspec": {
   "display_name": "Python 3",
   "language": "python",
   "name": "python3"
  },
  "language_info": {
   "codemirror_mode": {
    "name": "ipython",
    "version": 3
   },
   "file_extension": ".py",
   "mimetype": "text/x-python",
   "name": "python",
   "nbconvert_exporter": "python",
   "pygments_lexer": "ipython3",
   "version": "3.10.10"
  },
  "papermill": {
   "default_parameters": {},
   "duration": 17.945393,
   "end_time": "2023-07-10T07:28:54.326482",
   "environment_variables": {},
   "exception": null,
   "input_path": "__notebook__.ipynb",
   "output_path": "__notebook__.ipynb",
   "parameters": {},
   "start_time": "2023-07-10T07:28:36.381089",
   "version": "2.4.0"
  }
 },
 "nbformat": 4,
 "nbformat_minor": 5
}
